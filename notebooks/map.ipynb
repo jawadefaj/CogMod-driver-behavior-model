{
 "cells": [
  {
   "cell_type": "code",
   "execution_count": 2,
   "metadata": {},
   "outputs": [
    {
     "name": "stdout",
     "output_type": "stream",
     "text": [
      "current working dirC:\\Users\\abjawad\\Documents\\cogmod-driver-behavior-model\n",
      "Client carla version: 0.9.13\n",
      "Server carla version: 0.9.13\n"
     ]
    }
   ],
   "source": [
    "exec(open(\"init_notebook.py\", \"r\").read())\n",
    "\n",
    "import carla\n",
    "from lib.MapManager import MapNames, MapManager\n",
    "\n",
    "host = '127.0.0.1'\n",
    "port = 2000\n",
    "timeout=10\n",
    "\n",
    "client = carla.Client(host, port)\n",
    "client.set_timeout(timeout)\n",
    "print(f\"Client carla version: {client.get_client_version()}\")\n",
    "print(f\"Server carla version: {client.get_server_version()}\")\n"
   ]
  },
  {
   "cell_type": "code",
   "execution_count": 3,
   "metadata": {},
   "outputs": [
    {
     "data": {
      "text/plain": [
       "['/Game/ADL_Maps_Carla_Materials/Maps/circle_t_junctions/circle_t_junctions',\n",
       " '/Game/ADL_Maps_Carla_Materials/Maps/t_junction/t_junction',\n",
       " '/Game/Carla/Maps/Town01',\n",
       " '/Game/Carla/Maps/Town01_Opt',\n",
       " '/Game/Carla/Maps/Town02',\n",
       " '/Game/Carla/Maps/Town02_Opt',\n",
       " '/Game/Carla/Maps/Town03',\n",
       " '/Game/Carla/Maps/Town03_Opt',\n",
       " '/Game/Carla/Maps/Town04',\n",
       " '/Game/Carla/Maps/Town04_Opt',\n",
       " '/Game/Carla/Maps/Town05',\n",
       " '/Game/Carla/Maps/Town05_Opt',\n",
       " '/Game/Carla/Maps/Town10HD',\n",
       " '/Game/Carla/Maps/Town10HD_Opt',\n",
       " '/Game/HighWay_Ring/Maps/HighWay_Ring/HighWay_Ring']"
      ]
     },
     "execution_count": 3,
     "metadata": {},
     "output_type": "execute_result"
    }
   ],
   "source": [
    "client.get_available_maps()"
   ]
  },
  {
   "cell_type": "code",
   "execution_count": 4,
   "metadata": {},
   "outputs": [
    {
     "name": "stdout",
     "output_type": "stream",
     "text": [
      "Spawn points: 4\n",
      "Transform(Location(x=-212.790604, y=6.754369, z=1.000000), Rotation(pitch=0.000000, yaw=-1.102814, roll=0.000000))\n",
      "Transform(Location(x=569.148438, y=-9.760381, z=1.000000), Rotation(pitch=0.000000, yaw=-1.102814, roll=0.000000))\n",
      "Transform(Location(x=569.148438, y=-13.743261, z=1.000000), Rotation(pitch=0.000000, yaw=-1.102814, roll=0.000000))\n",
      "Transform(Location(x=-213.161240, y=3.085049, z=1.000000), Rotation(pitch=0.000000, yaw=-1.102814, roll=0.000000))\n"
     ]
    }
   ],
   "source": [
    "mapName = 'HighWay_Ring'\n",
    "\n",
    "client.load_world(mapName)\n",
    "spawnPoints = client.get_world().get_map().get_spawn_points()\n",
    "print(f\"Spawn points: {len(spawnPoints)}\")\n",
    "for sp in spawnPoints:\n",
    "    print(sp)"
   ]
  },
  {
   "cell_type": "code",
   "execution_count": null,
   "metadata": {},
   "outputs": [],
   "source": [
    "spectator = client.get_world().get_spectator()\n",
    "print(f\"Spectator: {spectator.get_transform()}\")"
   ]
  }
 ],
 "metadata": {
  "kernelspec": {
   "display_name": "Python 3.7.11 ('carla-vehicle')",
   "language": "python",
   "name": "python3"
  },
  "language_info": {
   "codemirror_mode": {
    "name": "ipython",
    "version": 3
   },
   "file_extension": ".py",
   "mimetype": "text/x-python",
   "name": "python",
   "nbconvert_exporter": "python",
   "pygments_lexer": "ipython3",
   "version": "3.7.11"
  },
  "orig_nbformat": 4,
  "vscode": {
   "interpreter": {
    "hash": "fa5f0ba12b2865ab3a23daa32f07998d8efd58032fc91693b4926503a96e5135"
   }
  }
 },
 "nbformat": 4,
 "nbformat_minor": 2
}
