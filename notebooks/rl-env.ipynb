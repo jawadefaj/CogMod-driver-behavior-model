{
 "cells": [
  {
   "cell_type": "code",
   "execution_count": 1,
   "metadata": {},
   "outputs": [
    {
     "name": "stdout",
     "output_type": "stream",
     "text": [
      "current working dirC:\\AV\\Carla\\CARLA_0.9.13\\WindowsNoEditor\\PythonAPI\\experiments\n"
     ]
    }
   ],
   "source": [
    "exec(open(\"init_notebook.py\", \"r\").read())\n",
    "%load_ext autoreload\n",
    "%autoreload 2"
   ]
  },
  {
   "cell_type": "code",
   "execution_count": 2,
   "metadata": {},
   "outputs": [],
   "source": [
    "import logging\n",
    "from tqdm import tqdm"
   ]
  },
  {
   "cell_type": "code",
   "execution_count": 3,
   "metadata": {},
   "outputs": [
    {
     "name": "stderr",
     "output_type": "stream",
     "text": [
      "2023-08-16 10:49:22,105 - Research1v1 - WARNING - Starting simulation in synchronous mode\n"
     ]
    },
    {
     "name": "stdout",
     "output_type": "stream",
     "text": [
      "research chosen : R1v1 with host: 127.0.0.1, port: 2000, log level: 30, output directory: D:/AV/DataSetExploration/jaywalker\n",
      "applying settings WorldSettings(synchronous_mode=True,no_rendering_mode=False,fixed_delta_seconds=0.04,substepping=True,max_substep_delta_time=0.01,max_substeps=10,max_culling_distance=0,deterministic_ragdolls=True)\n"
     ]
    },
    {
     "name": "stderr",
     "output_type": "stream",
     "text": [
      "C:\\Users\\adhocmaster\\anaconda3\\envs\\carla37\\lib\\site-packages\\gym\\spaces\\box.py:74: UserWarning: \u001b[33mWARN: Box bound precision lowered by casting to float32\u001b[0m\n",
      "  \"Box bound precision lowered by casting to {}\".format(self.dtype)\n",
      "2023-08-16 10:49:26,036 - PedestrianFactory - WARNING - Internation factor path is None. Using the default at (settings/internal_factors_default.yaml)\n",
      "WARNING:PedestrianFactory:Internation factor path is None. Using the default at (settings/internal_factors_default.yaml)\n",
      "2023-08-16 10:49:26,041 - SingleOncomingVehicleLocalPlanner 60 - WARNING - remembering 50 tick locations\n",
      "WARNING:SingleOncomingVehicleLocalPlanner 60:remembering 50 tick locations\n",
      "2023-08-16 10:49:26,042 - PedestrianAgent #60 - WARNING - Updating PedestrianAgent #60 log level: 30\n",
      "WARNING:PedestrianAgent #60:Updating PedestrianAgent #60 log level: 30\n",
      "2023-08-16 10:49:26,044 - Research1v1 - WARNING - started episode 1\n",
      "WARNING:Research1v1:started episode 1\n"
     ]
    }
   ],
   "source": [
    "from research.adversaries.EnvironmentFactory import EnvironmentFactory, AvailableEnvironments\n",
    "dataDir = \"D:/AV/DataSetExploration/jaywalker\"\n",
    "# dataDir = \"E:/AV/DataSetExploration/jaywalker\"\n",
    "env = EnvironmentFactory.create(\n",
    "    AvailableEnvironments.R1V1Env1, \n",
    "    defaultLogLevel=logging.WARNING,\n",
    "    output_dir=dataDir\n",
    ")"
   ]
  },
  {
   "cell_type": "code",
   "execution_count": 4,
   "metadata": {},
   "outputs": [
    {
     "data": {
      "text/plain": [
       "25"
      ]
     },
     "execution_count": 4,
     "metadata": {},
     "output_type": "execute_result"
    }
   ],
   "source": [
    "env.getActionTicks('a')"
   ]
  },
  {
   "cell_type": "code",
   "execution_count": 5,
   "metadata": {},
   "outputs": [],
   "source": [
    "# env.research.getWalkerAgent().updateLogLevel(logging.WARN)"
   ]
  },
  {
   "cell_type": "code",
   "execution_count": null,
   "metadata": {},
   "outputs": [],
   "source": [
    "# env.reset()"
   ]
  },
  {
   "cell_type": "code",
   "execution_count": null,
   "metadata": {},
   "outputs": [],
   "source": [
    "# take 5 actions which should run 5 seconds of simulation\n",
    "for _ in tqdm(range(5), desc=\"Steps\"):\n",
    "    state, reward, done, _ = env.step('sa')\n",
    "    if done:\n",
    "        env.reset()"
   ]
  },
  {
   "cell_type": "code",
   "execution_count": null,
   "metadata": {},
   "outputs": [],
   "source": [
    "env.close()"
   ]
  },
  {
   "cell_type": "code",
   "execution_count": null,
   "metadata": {},
   "outputs": [],
   "source": [
    "# env.research.episodeTrajectoryRecorders"
   ]
  },
  {
   "cell_type": "code",
   "execution_count": null,
   "metadata": {},
   "outputs": [],
   "source": [
    "recorder = env.research.episodeTrajectoryRecorders[1]"
   ]
  },
  {
   "cell_type": "code",
   "execution_count": null,
   "metadata": {},
   "outputs": [],
   "source": [
    "recorder.trajectories"
   ]
  },
  {
   "cell_type": "code",
   "execution_count": null,
   "metadata": {},
   "outputs": [],
   "source": [
    "recorder.getAsDataFrame()"
   ]
  },
  {
   "cell_type": "code",
   "execution_count": null,
   "metadata": {},
   "outputs": [],
   "source": [
    "recorder.fps"
   ]
  },
  {
   "cell_type": "code",
   "execution_count": null,
   "metadata": {},
   "outputs": [],
   "source": [
    "1 / env.research.time_delta"
   ]
  },
  {
   "cell_type": "code",
   "execution_count": null,
   "metadata": {},
   "outputs": [],
   "source": [
    "vehicle = env.research.vehicle\n",
    "walker = env.research.walker"
   ]
  },
  {
   "cell_type": "code",
   "execution_count": null,
   "metadata": {},
   "outputs": [],
   "source": [
    "from lib.VehicleUtils import VehicleUtils"
   ]
  },
  {
   "cell_type": "code",
   "execution_count": null,
   "metadata": {},
   "outputs": [],
   "source": [
    "contour = VehicleUtils.getYANGContour(vehicle)"
   ]
  },
  {
   "cell_type": "code",
   "execution_count": null,
   "metadata": {},
   "outputs": [],
   "source": [
    "contour"
   ]
  },
  {
   "cell_type": "code",
   "execution_count": null,
   "metadata": {},
   "outputs": [],
   "source": [
    "from shapely.ops import nearest_points\n",
    "from shapely.geometry import Point\n",
    "points = nearest_points(contour, Point(walker.get_location().x, walker.get_location().y))\n",
    "for point in points:\n",
    "    print(point)\n",
    "\n",
    "print(walker.get_location())"
   ]
  },
  {
   "cell_type": "code",
   "execution_count": null,
   "metadata": {},
   "outputs": [],
   "source": [
    "X = contour.exterior.xy[0]\n",
    "Y = contour.exterior.xy[1]\n",
    "print(X, Y)\n",
    "for point in zip(X, Y):\n",
    "    print(point)"
   ]
  },
  {
   "cell_type": "code",
   "execution_count": null,
   "metadata": {},
   "outputs": [],
   "source": [
    "# visualizer = env.research.visualizer\n",
    "# for _ in tqdm(range(5), desc=\"Steps\"):\n",
    "#     state, reward, done, _ = env.step('sa')\n",
    "#     if done:\n",
    "#         env.reset()\n",
    "#     else:\n",
    "#         vehicle = env.research.vehicle\n",
    "#         contour = VehicleUtils.getYANGContour(vehicle)\n",
    "#         visualizer.drawShaplyPolygon(contour, color=(0, 0, 255,0), life_time=1.0, z=1.5)"
   ]
  },
  {
   "cell_type": "code",
   "execution_count": null,
   "metadata": {},
   "outputs": [],
   "source": []
  }
 ],
 "metadata": {
  "interpreter": {
   "hash": "c41efe7cc2f3c8a3ce9b519e40ef040a56d286a1ae6cf399c12879848c67d057"
  },
  "kernelspec": {
   "display_name": "Python 3 (ipykernel)",
   "language": "python",
   "name": "python3"
  },
  "language_info": {
   "codemirror_mode": {
    "name": "ipython",
    "version": 3
   },
   "file_extension": ".py",
   "mimetype": "text/x-python",
   "name": "python",
   "nbconvert_exporter": "python",
   "pygments_lexer": "ipython3",
   "version": "3.7.11"
  }
 },
 "nbformat": 4,
 "nbformat_minor": 4
}
