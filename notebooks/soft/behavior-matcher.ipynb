{
 "cells": [
  {
   "cell_type": "code",
   "execution_count": 1,
   "id": "590eb99a-e0da-46c0-82b4-a3dd308f923e",
   "metadata": {},
   "outputs": [
    {
     "name": "stdout",
     "output_type": "stream",
     "text": [
      "current working dirC:\\AV\\Carla\\CARLA_0.9.13\\WindowsNoEditor\\PythonAPI\\experiments\n"
     ]
    }
   ],
   "source": [
    "exec(open(\"init_notebook.py\", \"r\").read())\n",
    "%load_ext autoreload\n",
    "%autoreload 2"
   ]
  },
  {
   "cell_type": "code",
   "execution_count": 2,
   "id": "e702b340-ecfa-4861-add8-e18a19624e1e",
   "metadata": {},
   "outputs": [],
   "source": [
    "from shapely.geometry import Polygon, Point, LineString\n",
    "import matplotlib.pyplot as plt\n",
    "from matplotlib.patches import Rectangle\n",
    "from shapely import affinity\n",
    "import matplotlib.pyplot as plt\n",
    "import math\n",
    "import random\n",
    "from agents.pedestrians.soft import *"
   ]
  },
  {
   "cell_type": "code",
   "execution_count": 3,
   "id": "eabcd22c-f713-4f16-aa68-c72a231dbb90",
   "metadata": {},
   "outputs": [],
   "source": [
    "\n",
    "point1 = NavPoint(\n",
    "    NavPointLocation(\n",
    "        laneId=-1,\n",
    "        laneSection=LaneSection.LEFT,\n",
    "        distanceToEgo=24.0, \n",
    "        distanceToInitialEgo=24.0, \n",
    "    ),\n",
    "    NavPointBehavior(\n",
    "        speed=1\n",
    "    )\n",
    ")\n",
    "\n",
    "point2 = NavPoint(\n",
    "    NavPointLocation(\n",
    "        laneId=-1,\n",
    "        laneSection=LaneSection.MIDDLE,\n",
    "        distanceToEgo=7.0, \n",
    "        distanceToInitialEgo=25.0, \n",
    "    ),\n",
    "    NavPointBehavior(\n",
    "        speed=0.5\n",
    "    )\n",
    ")\n",
    "\n",
    "point3 = NavPoint(\n",
    "    NavPointLocation(\n",
    "        laneId=-1,\n",
    "        laneSection=LaneSection.MIDDLE,\n",
    "        distanceToEgo=1.0, \n",
    "        distanceToInitialEgo=25.0, \n",
    "    ),\n",
    "    NavPointBehavior(\n",
    "        speed=0.1\n",
    "    )\n",
    ")\n",
    "\n",
    "\n",
    "point4 = NavPoint(\n",
    "    NavPointLocation(\n",
    "        laneId=0,\n",
    "        laneSection=LaneSection.LEFT,\n",
    "        distanceToEgo=-1, \n",
    "        distanceToInitialEgo=25.0, \n",
    "    ),\n",
    "    NavPointBehavior(\n",
    "        speed=1\n",
    "    )\n",
    ")\n",
    "\n",
    "\n",
    "roadConfiguration = NavPathRoadConfiguration(\n",
    "    roadWidth=2 * 3.5,\n",
    "    nEgoDirectionLanes=1,\n",
    "    nEgoOppositeDirectionLanes=1\n",
    ")\n",
    "\n",
    "egoConfiguration = NavPathEgoConfiguration(\n",
    "    egoLaneWrtCenter = 1,\n",
    "    egoSpeedStart=10,\n",
    "    egoSpeedEnd=20\n",
    ")\n",
    "\n",
    "pedConfiguration = NavPathPedestrianConfiguration(\n",
    "    \n",
    "    direction=Direction.LR,\n",
    "    avgSpeed=0.5,\n",
    "    maxSpeed=1.5,\n",
    "    minSpeed=0.0\n",
    ")\n",
    "    \n",
    "    \n",
    "\n",
    "navPath = NavPath(\n",
    "    id=\"psi-002\",\n",
    "    roadConfiguration=roadConfiguration,\n",
    "    egoConfiguration=egoConfiguration,\n",
    "    pedConfiguration=pedConfiguration,\n",
    "    path=[point1, point2, point3, point4]\n",
    ")\n"
   ]
  },
  {
   "cell_type": "code",
   "execution_count": 4,
   "id": "b686cfc9-5cc0-43ce-8da3-14a657aa870d",
   "metadata": {},
   "outputs": [
    {
     "data": {
      "image/png": "[encoded data removed]",
      "text/plain": [
       "<Figure size 840x1080 with 4 Axes>"
      ]
     },
     "metadata": {
      "needs_background": "light"
     },
     "output_type": "display_data"
    }
   ],
   "source": [
    "visualizer = SoftVisualizer()\n",
    "visualizer.visualizeNavPath(navPath)"
   ]
  },
  {
   "cell_type": "code",
   "execution_count": 5,
   "id": "9f745525-82a7-4945-a7b4-8a84fac8816f",
   "metadata": {},
   "outputs": [
    {
     "name": "stdout",
     "output_type": "stream",
     "text": [
      "nav idx: 0\n",
      "lane: -1: LaneSection.LEFT\n",
      "ego: 24.0: 24.0\n",
      "speed: 1\n",
      "tags: {<BehaviorType.EVASIVE_SLOWDOWN_STOP: 'EVASIVE_SLOWDOWN_STOP'>}\n",
      "\n",
      "\n",
      "nav idx: 1\n",
      "lane: -1: LaneSection.MIDDLE\n",
      "ego: 7.0: 25.0\n",
      "speed: 0.5\n",
      "tags: {<BehaviorType.EVASIVE_SLOWDOWN: 'EVASIVE_SLOWDOWN'>}\n",
      "\n",
      "\n",
      "nav idx: 2\n",
      "lane: -1: LaneSection.MIDDLE\n",
      "ego: 1.0: 25.0\n",
      "speed: 0.1\n",
      "tags: {<BehaviorType.EVASIVE_STOP: 'EVASIVE_STOP'>}\n",
      "\n",
      "\n",
      "nav idx: 3\n",
      "lane: 0: LaneSection.LEFT\n",
      "ego: -1: 25.0\n",
      "speed: 1\n",
      "tags: set()\n",
      "\n",
      "\n"
     ]
    }
   ],
   "source": [
    "matcher = BehaviorMatcher()\n",
    "matcher.tagNavPoints(navPath)\n",
    "\n",
    "for idx, navPoint in enumerate(navPath.path):\n",
    "    print(\"nav idx:\", idx)\n",
    "    print(navPoint)\n",
    "    print(\"\\n\")"
   ]
  },
  {
   "cell_type": "code",
   "execution_count": 6,
   "id": "c717474d-7908-4016-ac3a-794070c58a78",
   "metadata": {},
   "outputs": [
    {
     "name": "stdout",
     "output_type": "stream",
     "text": [
      "steps 1\n",
      "steps 2\n",
      "\n",
      "\n",
      "nav idx: 0\n",
      "lane: 1: LaneSection.LEFT\n",
      "ego: 20.0: 20.0\n",
      "speed: 1\n",
      "tags: set()\n",
      "\n",
      "\n",
      "nav idx: 1\n",
      "lane: 0: LaneSection.MIDDLE\n",
      "ego: 15.0: 20.0\n",
      "speed: 0.2\n",
      "tags: {<BehaviorType.EVASIVE_RETREAT: 'EVASIVE_RETREAT'>}\n",
      "\n",
      "\n",
      "nav idx: 2\n",
      "lane: 0: LaneSection.RIGHT\n",
      "ego: 6.0: 20.0\n",
      "speed: 0.8\n",
      "tags: {<BehaviorType.EVASIVE_SLOWDOWN: 'EVASIVE_SLOWDOWN'>}\n",
      "\n",
      "\n",
      "nav idx: 3\n",
      "lane: 1: LaneSection.LEFT\n",
      "ego: 2.0: 20.0\n",
      "speed: 0.1\n",
      "tags: {<BehaviorType.EVASIVE_STOP: 'EVASIVE_STOP'>}\n"
     ]
    }
   ],
   "source": [
    "\n",
    "point1 = NavPoint(\n",
    "    NavPointLocation(\n",
    "        laneId=1,\n",
    "        laneSection=LaneSection.LEFT,\n",
    "        distanceToEgo=20.0, \n",
    "        distanceToInitialEgo=20.0, \n",
    "    ),\n",
    "    NavPointBehavior(\n",
    "        speed=1\n",
    "    )\n",
    ")\n",
    "\n",
    "point2 = NavPoint(\n",
    "    NavPointLocation(\n",
    "        laneId=0,\n",
    "        laneSection=LaneSection.MIDDLE,\n",
    "        distanceToEgo=15.0, \n",
    "        distanceToInitialEgo=20.0, \n",
    "    ),\n",
    "    NavPointBehavior(\n",
    "        speed=0.2\n",
    "    )\n",
    ")\n",
    "\n",
    "point3 = NavPoint(\n",
    "    NavPointLocation(\n",
    "        laneId=0,\n",
    "        laneSection=LaneSection.RIGHT,\n",
    "        distanceToEgo=6.0, \n",
    "        distanceToInitialEgo=20.0, \n",
    "    ),\n",
    "    NavPointBehavior(\n",
    "        speed=0.8\n",
    "    )\n",
    ")\n",
    "point4 = NavPoint(\n",
    "    NavPointLocation(\n",
    "        laneId=1,\n",
    "        laneSection=LaneSection.LEFT,\n",
    "        distanceToEgo=2.0, \n",
    "        distanceToInitialEgo=20.0, \n",
    "    ),\n",
    "    NavPointBehavior(\n",
    "        speed=0.1\n",
    "    )\n",
    ")\n",
    "\n",
    "\n",
    "roadConfiguration = NavPathRoadConfiguration(\n",
    "    roadWidth=4 * 3.5,\n",
    "    nEgoDirectionLanes=2,\n",
    "    nEgoOppositeDirectionLanes=2,\n",
    ")\n",
    "\n",
    "egoConfiguration = NavPathEgoConfiguration(\n",
    "    \n",
    "    egoLaneWrtCenter = 2,\n",
    "    egoSpeedStart=10,\n",
    "    egoSpeedEnd=20\n",
    ")\n",
    "pedConfiguration = NavPathPedestrianConfiguration(\n",
    "    direction=Direction.RL,\n",
    "    avgSpeed=0.5,\n",
    "    maxSpeed=1,\n",
    "    minSpeed=0.1,\n",
    ")\n",
    "    \n",
    "\n",
    "navPath = NavPath(\n",
    "    \n",
    "    id=\"psi-004\",\n",
    "    roadConfiguration=roadConfiguration,\n",
    "    egoConfiguration=egoConfiguration,\n",
    "    pedConfiguration=pedConfiguration,\n",
    "    path=[point1, point2, point3, point4]\n",
    ")\n",
    "\n",
    "matcher = BehaviorMatcher()\n",
    "matcher.tagNavPoints(navPath)\n",
    "\n",
    "for idx, navPoint in enumerate(navPath.path):\n",
    "    print(\"\\n\")\n",
    "    print(\"nav idx:\", idx)\n",
    "    print(navPoint)"
   ]
  },
  {
   "cell_type": "code",
   "execution_count": 7,
   "id": "c101cddb-93f5-47c8-9e73-a89b283dba55",
   "metadata": {},
   "outputs": [
    {
     "data": {
      "image/png": "[encoded data removed]",
      "text/plain": [
       "<Figure size 1680x900 with 4 Axes>"
      ]
     },
     "metadata": {
      "needs_background": "light"
     },
     "output_type": "display_data"
    }
   ],
   "source": [
    "\n",
    "visualizer.visualizeNavPath(navPath)"
   ]
  },
  {
   "cell_type": "code",
   "execution_count": null,
   "id": "e35ca90d-6e79-4e7e-aa78-536a489161de",
   "metadata": {},
   "outputs": [],
   "source": []
  },
  {
   "cell_type": "code",
   "execution_count": null,
   "id": "53a20560-ba33-4113-9c50-93d01528689d",
   "metadata": {},
   "outputs": [],
   "source": []
  },
  {
   "cell_type": "code",
   "execution_count": null,
   "id": "26c6f6fe-8faf-40cb-925c-9fbe0cc2f785",
   "metadata": {},
   "outputs": [],
   "source": []
  }
 ],
 "metadata": {
  "kernelspec": {
   "display_name": "Python 3 (ipykernel)",
   "language": "python",
   "name": "python3"
  },
  "language_info": {
   "codemirror_mode": {
    "name": "ipython",
    "version": 3
   },
   "file_extension": ".py",
   "mimetype": "text/x-python",
   "name": "python",
   "nbconvert_exporter": "python",
   "pygments_lexer": "ipython3",
   "version": "3.7.11"
  },
  "vscode": {
   "interpreter": {
    "hash": "077a00195bd4b81c9b30195e1129ae6b06dfd6c9e83eac42d1c7e5d8b4fbdd88"
   }
  }
 },
 "nbformat": 4,
 "nbformat_minor": 5
}
