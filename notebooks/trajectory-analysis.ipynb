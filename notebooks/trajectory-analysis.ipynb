{
 "cells": [
  {
   "cell_type": "code",
   "execution_count": 2,
   "id": "179bfb37-1cc7-46c1-8464-2c40f04cd221",
   "metadata": {},
   "outputs": [
    {
     "name": "stdout",
     "output_type": "stream",
     "text": [
      "current working dirC:\\Users\\carla\\carla-jaywalker-experiments\n"
     ]
    }
   ],
   "source": [
    "exec(open(\"init_notebook.py\", \"r\").read())\n",
    "%load_ext autoreload\n",
    "%autoreload 2"
   ]
  },
  {
   "cell_type": "code",
   "execution_count": 4,
   "id": "4b890205-a543-4b97-b6b0-baf82d38ec8c",
   "metadata": {},
   "outputs": [],
   "source": [
    "import pandas as pd\n",
    "import numpy as np\n",
    "import matplotlib.pyplot as plt\n",
    "import seaborn as sns\n",
    "%matplotlib qt "
   ]
  },
  {
   "cell_type": "code",
   "execution_count": 5,
   "id": "6fa0d37f-4160-40bf-9448-282451ae9945",
   "metadata": {},
   "outputs": [],
   "source": [
    "from analysis.EpisodeParser import EpisodeParser\n",
    "from analysis.Histogram import Histogram\n",
    "from analysis.ScatterPlot import ScatterPlot"
   ]
  },
  {
   "cell_type": "code",
   "execution_count": 7,
   "id": "11011261-2c27-412e-bfff-316503343776",
   "metadata": {},
   "outputs": [
    {
     "data": {
      "text/html": [
       "<div>\n",
       "<style scoped>\n",
       "    .dataframe tbody tr th:only-of-type {\n",
       "        vertical-align: middle;\n",
       "    }\n",
       "\n",
       "    .dataframe tbody tr th {\n",
       "        vertical-align: top;\n",
       "    }\n",
       "\n",
       "    .dataframe thead th {\n",
       "        text-align: right;\n",
       "    }\n",
       "</style>\n",
       "<table border=\"1\" class=\"dataframe\">\n",
       "  <thead>\n",
       "    <tr style=\"text-align: right;\">\n",
       "      <th></th>\n",
       "      <th>episode</th>\n",
       "      <th>timestep</th>\n",
       "      <th>v_x</th>\n",
       "      <th>v_y</th>\n",
       "      <th>v_speed</th>\n",
       "      <th>w_x</th>\n",
       "      <th>w_y</th>\n",
       "      <th>w_speed</th>\n",
       "      <th>w_state</th>\n",
       "      <th>w_x_diff</th>\n",
       "      <th>w_y_diff</th>\n",
       "      <th>w_d</th>\n",
       "      <th>distance</th>\n",
       "    </tr>\n",
       "  </thead>\n",
       "  <tbody>\n",
       "    <tr>\n",
       "      <th>9841</th>\n",
       "      <td>44</td>\n",
       "      <td>170</td>\n",
       "      <td>117.162498</td>\n",
       "      <td>191.605560</td>\n",
       "      <td>1.846393</td>\n",
       "      <td>64.152557</td>\n",
       "      <td>186.322952</td>\n",
       "      <td>1.999707</td>\n",
       "      <td>CROSSING</td>\n",
       "      <td>-0.061752</td>\n",
       "      <td>-0.061752</td>\n",
       "      <td>0.087331</td>\n",
       "      <td>53.272505</td>\n",
       "    </tr>\n",
       "    <tr>\n",
       "      <th>9842</th>\n",
       "      <td>44</td>\n",
       "      <td>171</td>\n",
       "      <td>117.393318</td>\n",
       "      <td>191.605576</td>\n",
       "      <td>1.470181</td>\n",
       "      <td>63.883430</td>\n",
       "      <td>186.241989</td>\n",
       "      <td>2.009570</td>\n",
       "      <td>CROSSING</td>\n",
       "      <td>-0.080963</td>\n",
       "      <td>-0.080963</td>\n",
       "      <td>0.114499</td>\n",
       "      <td>53.778027</td>\n",
       "    </tr>\n",
       "    <tr>\n",
       "      <th>9843</th>\n",
       "      <td>44</td>\n",
       "      <td>172</td>\n",
       "      <td>117.509941</td>\n",
       "      <td>191.605759</td>\n",
       "      <td>0.007774</td>\n",
       "      <td>63.616314</td>\n",
       "      <td>186.157684</td>\n",
       "      <td>2.000003</td>\n",
       "      <td>CROSSING</td>\n",
       "      <td>-0.084305</td>\n",
       "      <td>-0.084305</td>\n",
       "      <td>0.119225</td>\n",
       "      <td>54.168299</td>\n",
       "    </tr>\n",
       "    <tr>\n",
       "      <th>9844</th>\n",
       "      <td>44</td>\n",
       "      <td>173</td>\n",
       "      <td>117.509789</td>\n",
       "      <td>191.605743</td>\n",
       "      <td>0.003973</td>\n",
       "      <td>63.343090</td>\n",
       "      <td>186.092209</td>\n",
       "      <td>2.008632</td>\n",
       "      <td>CROSSING</td>\n",
       "      <td>-0.065475</td>\n",
       "      <td>-0.065475</td>\n",
       "      <td>0.092596</td>\n",
       "      <td>54.446582</td>\n",
       "    </tr>\n",
       "    <tr>\n",
       "      <th>9845</th>\n",
       "      <td>44</td>\n",
       "      <td>174</td>\n",
       "      <td>117.511688</td>\n",
       "      <td>191.605743</td>\n",
       "      <td>0.004831</td>\n",
       "      <td>63.069897</td>\n",
       "      <td>186.030472</td>\n",
       "      <td>1.999707</td>\n",
       "      <td>CROSSING</td>\n",
       "      <td>-0.061737</td>\n",
       "      <td>-0.061737</td>\n",
       "      <td>0.087309</td>\n",
       "      <td>54.726523</td>\n",
       "    </tr>\n",
       "  </tbody>\n",
       "</table>\n",
       "</div>"
      ],
      "text/plain": [
       "      episode  timestep         v_x         v_y   v_speed        w_x  \\\n",
       "9841       44       170  117.162498  191.605560  1.846393  64.152557   \n",
       "9842       44       171  117.393318  191.605576  1.470181  63.883430   \n",
       "9843       44       172  117.509941  191.605759  0.007774  63.616314   \n",
       "9844       44       173  117.509789  191.605743  0.003973  63.343090   \n",
       "9845       44       174  117.511688  191.605743  0.004831  63.069897   \n",
       "\n",
       "             w_y   w_speed   w_state  w_x_diff  w_y_diff       w_d   distance  \n",
       "9841  186.322952  1.999707  CROSSING -0.061752 -0.061752  0.087331  53.272505  \n",
       "9842  186.241989  2.009570  CROSSING -0.080963 -0.080963  0.114499  53.778027  \n",
       "9843  186.157684  2.000003  CROSSING -0.084305 -0.084305  0.119225  54.168299  \n",
       "9844  186.092209  2.008632  CROSSING -0.065475 -0.065475  0.092596  54.446582  \n",
       "9845  186.030472  1.999707  CROSSING -0.061737 -0.061737  0.087309  54.726523  "
      ]
     },
     "execution_count": 7,
     "metadata": {},
     "output_type": "execute_result"
    }
   ],
   "source": [
    "# path = \"logs/03-09-2022-trajectories-v-variable.csv\"\n",
    "path = \"logs\\\\2022-06-02-00-00-trajectories.csv\"\n",
    "df = pd.read_csv(path)\n",
    "episodeParser = EpisodeParser(df)\n",
    "episodeParser.df.tail()"
   ]
  },
  {
   "cell_type": "code",
   "execution_count": 8,
   "id": "46a3eb4f-ff6e-410b-b30a-80153bdebf3f",
   "metadata": {},
   "outputs": [
    {
     "data": {
      "text/plain": [
       "array([ 1,  2,  3,  4,  5,  6,  7,  8,  9, 10, 11, 12, 13, 14, 15, 16, 17,\n",
       "       18, 19, 20, 21, 22, 23, 24, 25, 26, 27, 28, 29, 30, 31, 32, 33, 34,\n",
       "       35, 36, 37, 38, 39, 40, 41, 42, 43, 44], dtype=int64)"
      ]
     },
     "execution_count": 8,
     "metadata": {},
     "output_type": "execute_result"
    }
   ],
   "source": [
    "episodeParser.df.episode.unique()"
   ]
  },
  {
   "cell_type": "code",
   "execution_count": null,
   "id": "8a63e10f-b66c-4660-8867-8b5da6bb9dbe",
   "metadata": {},
   "outputs": [],
   "source": []
  }
 ],
 "metadata": {
  "interpreter": {
   "hash": "2a97827a518f708b06aeb1e37f5dc2069331954fe4a7f289d5bf933cb6ce473c"
  },
  "kernelspec": {
   "display_name": "Python 3 (ipykernel)",
   "language": "python",
   "name": "python3"
  },
  "language_info": {
   "codemirror_mode": {
    "name": "ipython",
    "version": 3
   },
   "file_extension": ".py",
   "mimetype": "text/x-python",
   "name": "python",
   "nbconvert_exporter": "python",
   "pygments_lexer": "ipython3",
   "version": "3.7.11"
  }
 },
 "nbformat": 4,
 "nbformat_minor": 5
}
