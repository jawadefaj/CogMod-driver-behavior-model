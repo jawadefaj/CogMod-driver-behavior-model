{
 "cells": [
  {
   "cell_type": "code",
   "execution_count": 1,
   "metadata": {},
   "outputs": [
    {
     "name": "stdout",
     "output_type": "stream",
     "text": [
      "current working dirC:\\Users\\abjawad\\Documents\\GitHub\\cogMod-driver-behavior-model\\highd_tools\n",
      "Client carla version: 0.9.13\n",
      "Server carla version: 0.9.13\n"
     ]
    }
   ],
   "source": [
    "exec(open(\"init_notebook.py\", \"r\").read())\n",
    "\n",
    "import carla\n",
    "\n",
    "host = '127.0.0.1'\n",
    "port = 2000\n",
    "timeout=10\n",
    "\n",
    "client = carla.Client(host, port)\n",
    "client.set_timeout(timeout)\n",
    "print(f\"Client carla version: {client.get_client_version()}\")\n",
    "print(f\"Server carla version: {client.get_server_version()}\")\n"
   ]
  },
  {
   "cell_type": "code",
   "execution_count": 2,
   "metadata": {},
   "outputs": [
    {
     "name": "stdout",
     "output_type": "stream",
     "text": [
      "Spawn points: 4\n",
      "Transform(Location(x=-212.790604, y=6.754369, z=1.000000), Rotation(pitch=0.000000, yaw=-1.102814, roll=0.000000))\n",
      "Transform(Location(x=569.148438, y=-9.760381, z=1.000000), Rotation(pitch=0.000000, yaw=-1.102814, roll=0.000000))\n",
      "Transform(Location(x=569.148438, y=-13.743261, z=1.000000), Rotation(pitch=0.000000, yaw=-1.102814, roll=0.000000))\n",
      "Transform(Location(x=-213.161240, y=3.085049, z=1.000000), Rotation(pitch=0.000000, yaw=-1.102814, roll=0.000000))\n"
     ]
    }
   ],
   "source": [
    "spawnPoints = client.get_world().get_map().get_spawn_points()\n",
    "world = client.get_world()\n",
    "print(f\"Spawn points: {len(spawnPoints)}\")\n",
    "for sp in spawnPoints:\n",
    "    print(sp)\n",
    "bpLib = world.get_blueprint_library()\n",
    "vehicleBps = bpLib.filter('vehicle.audi.*')"
   ]
  },
  {
   "cell_type": "code",
   "execution_count": null,
   "metadata": {},
   "outputs": [],
   "source": []
  },
  {
   "cell_type": "code",
   "execution_count": 3,
   "metadata": {},
   "outputs": [],
   "source": [
    "vehicle = world.spawn_actor(vehicleBps[0], spawnPoints[0])"
   ]
  },
  {
   "cell_type": "code",
   "execution_count": null,
   "metadata": {},
   "outputs": [],
   "source": [
    "ros__parameters={\n",
    "    # override the default values of the pid speed controller\n",
    "    # (only relevant for ackermann control mode) \n",
    "    'speed_Kp': 0.05,  # min: 0, max: 1.\n",
    "    'speed_Ki': 0.00,  # min: 0, max: 1.\n",
    "    'speed_Kd': 0.50,  # min: 0, max: 10. \n",
    "    # override the default values of the pid acceleration controller\n",
    "    # (only relevant for ackermann control mode)\n",
    "    'accel_Kp': 0.05,  # min: 0, max: 10.\n",
    "    'accel_Ki': 0.00,  # min: 0, max: 10.\n",
    "    'accel_Kd': 0.05,  # min: 0, max: 10.\n",
    "    # set the minimum acceleration in (m/s^2)\n",
    "    # This border value is used to enable the speed controller which is used to control driving \n",
    "    # at more or less constant speed.\n",
    "    # If the absolute value of the ackermann drive target acceleration exceeds this value,\n",
    "    # directly the input acceleration is controlled \n",
    "    'min_accel': 1.0,\n",
    "}"
   ]
  }
 ],
 "metadata": {
  "kernelspec": {
   "display_name": "carla-vehicle",
   "language": "python",
   "name": "python3"
  },
  "language_info": {
   "codemirror_mode": {
    "name": "ipython",
    "version": 3
   },
   "file_extension": ".py",
   "mimetype": "text/x-python",
   "name": "python",
   "nbconvert_exporter": "python",
   "pygments_lexer": "ipython3",
   "version": "3.7.11"
  },
  "orig_nbformat": 4
 },
 "nbformat": 4,
 "nbformat_minor": 2
}
